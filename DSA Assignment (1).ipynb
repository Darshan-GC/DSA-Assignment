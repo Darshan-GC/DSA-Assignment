{
 "cells": [
  {
   "cell_type": "code",
   "execution_count": 1,
   "id": "b12a4ab4",
   "metadata": {},
   "outputs": [
    {
     "name": "stdout",
     "output_type": "stream",
     "text": [
      "Q1. Write a program to find all pairs of an integer array whose sum is equal to a given number?\n",
      "[ [ 8, 4 ], [ 7, 5 ] ]\n"
     ]
    }
   ],
   "source": [
    "console.log('Q1. Write a program to find all pairs of an integer array whose sum is equal to a given number?')\n",
    "\n",
    "\n",
    "\n",
    "const arr = [8, 7, 2, 5, 3, 1,4]\n",
    "const Num = 12;\n",
    "const output=[];\n",
    "let count = -1;\n",
    "\n",
    "for(i=0;i<arr.length-1;i++)\n",
    "  { \n",
    "    for(j=i+1;j<arr.length;j++)\n",
    "      { \n",
    "        if(arr[i]+arr[j]==Num)\n",
    "          { \n",
    "            ++count;\n",
    "            output[count] = [arr[i],arr[j]];\n",
    "          }\n",
    "      }\n",
    "  }\n",
    "\n",
    "if(output.length)\n",
    "  {\n",
    "   console.log(output); \n",
    "  }else{\n",
    "    console.log('Pair not found')\n",
    "  }"
   ]
  },
  {
   "cell_type": "code",
   "execution_count": 2,
   "id": "ac571345",
   "metadata": {},
   "outputs": [
    {
     "name": "stdout",
     "output_type": "stream",
     "text": [
      "Q2. Write a program to reverse an array in place? In place means you cannot create a new array. You have to update the original array.\n",
      "[ 7, 5, 3, 4, 3 ]\n"
     ]
    }
   ],
   "source": [
    "console.log('Q2. Write a program to reverse an array in place? In place means you cannot create a new array. You have to update the original array.')\n",
    "\n",
    "const array = [3,4,3,5,7];\n",
    "\n",
    "\n",
    "for (let i = 0; i < Math.floor(array.length / 2); i++) {\n",
    "    [array[i], array[array.length - 1 - i]] = [array[array.length - 1 - i], array[i]];\n",
    "}\n",
    "console.log(array);"
   ]
  },
  {
   "cell_type": "code",
   "execution_count": 3,
   "id": "48e1a3d1",
   "metadata": {},
   "outputs": [
    {
     "name": "stdout",
     "output_type": "stream",
     "text": [
      "Q3. Write a program to check if two strings are a rotation of each other?\n",
      "Strings are rotation of each other\n"
     ]
    }
   ],
   "source": [
    "console.log('Q3. Write a program to check if two strings are a rotation of each other?')\n",
    "            \n",
    "const string1='HELLO';\n",
    "const string2='ELLOH';\n",
    "\n",
    "\n",
    "let Temp='';\n",
    "\n",
    "if(string1.length==string2.length)\n",
    "  {\n",
    "    Temp =string1 + string1;\n",
    "\n",
    "if(Temp.includes(string2)){\n",
    "  console.log('Strings are rotation of each other')\n",
    "}else{\n",
    "  console.log('Strings are not rotation of each other')\n",
    "}\n",
    "  }else{\n",
    "     console.log('Strings are not rotation of each other')\n",
    "  }\n",
    "            \n",
    "            "
   ]
  },
  {
   "cell_type": "code",
   "execution_count": 4,
   "id": "04a4c5a6",
   "metadata": {},
   "outputs": [
    {
     "name": "stdout",
     "output_type": "stream",
     "text": [
      "Q4.Write a program to print the first non-repeated character from a string?\n",
      "FirstNonRepeatedCharacter k\n"
     ]
    }
   ],
   "source": [
    "console.log('Q4.Write a program to print the first non-repeated character from a string?')\n",
    "\n",
    "const Frarray = 'hdddfkffhehdtpp'\n",
    "\n",
    "function firstNonRepeatedCharacter(string) {\n",
    "  for (var i = 0; i < string.length; i++) {\n",
    "    var c = string.charAt(i);\n",
    "    if (string.indexOf(c) == i && string.indexOf(c, i + 1) == -1) {\n",
    "      return c;\n",
    "    }\n",
    "  }\n",
    "  return null;\n",
    "}\n",
    "\n",
    "  console.log('FirstNonRepeatedCharacter',firstNonRepeatedCharacter(Frarray));"
   ]
  },
  {
   "cell_type": "code",
   "execution_count": 5,
   "id": "abecda61",
   "metadata": {},
   "outputs": [
    {
     "name": "stdout",
     "output_type": "stream",
     "text": [
      "Q5. Read about the Tower of Hanoi algorithm. Write a program to implement it.\n",
      "Move disk 1 from rod A to rod C\n",
      "Move disk 2 from rod A to rod B\n",
      "Move disk 1 from rod C to rod B\n",
      "Move disk 3 from rod A to rod C\n",
      "Move disk 1 from rod B to rod A\n",
      "Move disk 2 from rod B to rod C\n",
      "Move disk 1 from rod A to rod C\n"
     ]
    }
   ],
   "source": [
    "console.log('Q5. Read about the Tower of Hanoi algorithm. Write a program to implement it.')\n",
    "\n",
    "function towerOfHanoi(n, from_rod,  to_rod,  aux_rod)\n",
    "{   \n",
    "        if (n == 1)\n",
    "        {\n",
    "            console.log(\"Move disk 1 from rod \" + from_rod +\" to rod \" + to_rod);\n",
    "            return;\n",
    "        }\n",
    "        towerOfHanoi(n - 1, from_rod, aux_rod, to_rod);\n",
    "        console.log(\"Move disk \" + n + \" from rod \" + from_rod +\" to rod \" + to_rod);\n",
    "        towerOfHanoi(n - 1, aux_rod, to_rod, from_rod);\n",
    "    }\n",
    "\n",
    "    var n = 3; \n",
    "    towerOfHanoi(n, 'A', 'C', 'B'); "
   ]
  },
  {
   "cell_type": "code",
   "execution_count": 6,
   "id": "4ca83db4",
   "metadata": {},
   "outputs": [
    {
     "name": "stdout",
     "output_type": "stream",
     "text": [
      "Q6. Read about infix, prefix, and postfix expressions. Write a program to convert postfix to prefix expression.\n",
      "[ '-*+ABC*-DE+FG' ]\n"
     ]
    }
   ],
   "source": [
    "console.log('Q6. Read about infix, prefix, and postfix expressions. Write a program to convert postfix to prefix expression.')\n",
    "\n",
    "let stack=[];\n",
    "const prefix='AB+C*DE-FG+*-';\n",
    "\n",
    "for(i=0;i<prefix.length;i++)\n",
    "  {\n",
    "    if(prefix[i]==='+'||prefix[i]==='-'||prefix[i]==='*'||prefix[i]==='/')\n",
    "      {\n",
    "        let operand1 = stack.pop();\n",
    "        let operand2 = stack.pop();\n",
    "        let exp = prefix[i]+ operand2 + operand1;\n",
    "        stack.push(exp);\n",
    "      }else{\n",
    "        stack.push(prefix[i]);\n",
    "      }\n",
    "  }\n",
    "console.log(stack)"
   ]
  },
  {
   "cell_type": "code",
   "execution_count": 7,
   "id": "ff510cf4",
   "metadata": {},
   "outputs": [
    {
     "name": "stdout",
     "output_type": "stream",
     "text": [
      "Q7. Write a program to convert prefix expression to infix expression.\n",
      "[ 'A*B+C/D' ]\n"
     ]
    }
   ],
   "source": [
    "console.log('Q7. Write a program to convert prefix expression to infix expression.')\n",
    "\n",
    "let stackinfix=[];\n",
    "const prefixInfix='+*AB/CD';\n",
    "\n",
    "for(i=prefixInfix.length-1;i>=0;i--)\n",
    "  {\n",
    "    if(prefixInfix[i]==='+'||prefixInfix[i]==='-'||prefixInfix[i]==='*'||prefixInfix[i]==='/')\n",
    "      {\n",
    "        let operand1 = stackinfix.pop();\n",
    "        let operand2 = stackinfix.pop();\n",
    "        let exp =  operand1 + prefixInfix[i]+ operand2;\n",
    "        stackinfix.push(exp);\n",
    "      }else{\n",
    "        stackinfix.push(prefixInfix[i]);\n",
    "      }\n",
    "  }\n",
    "console.log(stackinfix)"
   ]
  },
  {
   "cell_type": "code",
   "execution_count": 8,
   "id": "d058613c",
   "metadata": {},
   "outputs": [
    {
     "name": "stdout",
     "output_type": "stream",
     "text": [
      "Q8. Write a program to check if all the brackets are closed in a given code snippet.\n",
      "Not Balanced \n"
     ]
    }
   ],
   "source": [
    "console.log('Q8. Write a program to check if all the brackets are closed in a given code snippet.')\n",
    "\n",
    "function areBracketsBalanced(expr)\n",
    "{\n",
    "\n",
    "\tlet stack = [];\n",
    "\tfor(let i = 0; i < expr.length; i++)\n",
    "\t{\n",
    "\t\tlet x = expr[i];\n",
    "\n",
    "\t\tif (x == '(' || x == '[' || x == '{')\n",
    "\t\t{\n",
    "\t\t\t\n",
    "\t\t\tstack.push(x);\n",
    "\t\t\tcontinue;\n",
    "\t\t}\n",
    "\n",
    "\t\tif (stack.length == 0)\n",
    "\t\t\treturn false;\n",
    "\t\t\t\n",
    "\t\tlet check;\n",
    "\t\tswitch (x){\n",
    "\t\tcase ')':\n",
    "\t\t\tcheck = stack.pop();\n",
    "\t\t\tif (check == '{' || check == '[')\n",
    "\t\t\t\treturn false;\n",
    "\t\t\tbreak;\n",
    "\n",
    "\t\tcase '}':\n",
    "\t\t\tcheck = stack.pop();\n",
    "\t\t\tif (check == '(' || check == '[')\n",
    "\t\t\t\treturn false;\n",
    "\t\t\tbreak;\n",
    "\n",
    "\t\tcase ']':\n",
    "\t\t\tcheck = stack.pop();\n",
    "\t\t\tif (check == '(' || check == '{')\n",
    "\t\t\t\treturn false;\n",
    "\t\t\tbreak;\n",
    "\t\t}\n",
    "\t}\n",
    "\n",
    "\treturn (stack.length == 0);\n",
    "}\n",
    "\n",
    "const Array='[][[[([[[]{]}]])]]]';\n",
    "\n",
    "if (areBracketsBalanced(Array))\n",
    "\tconsole.log(\"Balanced \");\n",
    "else\n",
    "\tconsole.log(\"Not Balanced \");"
   ]
  },
  {
   "cell_type": "code",
   "execution_count": 9,
   "id": "c829a965",
   "metadata": {},
   "outputs": [
    {
     "name": "stdout",
     "output_type": "stream",
     "text": [
      "Q9. Write a program to reverse a stack.\n",
      "GFEDCBA\n"
     ]
    }
   ],
   "source": [
    "console.log('Q9. Write a program to reverse a stack.')\n",
    "function Stack() {\n",
    "  let data = [];\n",
    "  let length = 0;\n",
    "\n",
    "\n",
    "  return {\n",
    "    push: (item) => {\n",
    "      length++;\n",
    "      return data.push(item);\n",
    "    },\n",
    "    pop: () => {\n",
    "      if (length <= 0) {\n",
    "        return null;\n",
    "      } else {\n",
    "        length--;\n",
    "        return data.pop();\n",
    "      }\n",
    "    },\n",
    "    peek: () => {\n",
    "      if (length <= 0) {\n",
    "        return null;\n",
    "      } else {\n",
    "        return data[length - 1];\n",
    "      }\n",
    "    },\n",
    "    isEmpty: () => {\n",
    "      return !length;\n",
    "    },\n",
    "  };\n",
    "}\n",
    "\n",
    "function reverseString(str) {\n",
    "\n",
    "  let result = \"\";\n",
    "  let stack = new Stack();\n",
    "\n",
    "\n",
    "  let strArr = str.split(\"\");\n",
    "\n",
    "\n",
    "  strArr.forEach((element) => {\n",
    "    stack.push(element);\n",
    "  });\n",
    "\n",
    "\n",
    "  while (!stack.isEmpty()) {\n",
    "    result += stack.pop();\n",
    "  }\n",
    "\n",
    "\n",
    "  return result;\n",
    "\n",
    "}\n",
    "\n",
    "\n",
    "let str = \"ABCDEFG\";\n",
    "console.log(reverseString(str));"
   ]
  },
  {
   "cell_type": "code",
   "execution_count": 10,
   "id": "2048299a",
   "metadata": {},
   "outputs": [
    {
     "name": "stdout",
     "output_type": "stream",
     "text": [
      "Q10. Write a program to find the smallest number using a stack.\n",
      "0\n"
     ]
    }
   ],
   "source": [
    "console.log('Q10. Write a program to find the smallest number using a stack.')\n",
    "function Stack() {\n",
    "  let data = [];\n",
    "  let length = 0;\n",
    "\n",
    "\n",
    "  return {\n",
    "    push: (item) => {\n",
    "      length++;\n",
    "      \n",
    "      return data.push(item);\n",
    "    },\n",
    "    pop: () => {\n",
    "      if (length <= 0) {\n",
    "        return null;\n",
    "      } else {\n",
    "        length--;\n",
    "        return data.pop();\n",
    "      }\n",
    "    },\n",
    "    peek: () => {\n",
    "      if (length <= 0) {\n",
    "        return null;\n",
    "      } else {\n",
    "        return data[length - 1];\n",
    "      }\n",
    "    },\n",
    "    isEmpty: () => {\n",
    "      return !length;\n",
    "    },\n",
    "  };\n",
    "}\n",
    "\n",
    "function returnMinimum(input) {\n",
    "\n",
    "  let result = \"\";\n",
    "  let stack = new Stack();\n",
    "  let minSt = new Stack();\n",
    "  minSt.push(input[0]);\n",
    "  \n",
    "  input.forEach((element) => {\n",
    "    stack.push(element);\n",
    "    var min = element;\n",
    "     if(min < minSt.peek())\n",
    "       {\n",
    "        minSt.pop();\n",
    "        minSt.push(min);\n",
    "       }\n",
    "    });\n",
    "     return  minSt.peek(); \n",
    "}\n",
    "\n",
    "let num = [5,2,5,7,1,7,0,3,6];\n",
    "console.log(returnMinimum(num));\n"
   ]
  },
  {
   "cell_type": "code",
   "execution_count": null,
   "id": "87dd82bf",
   "metadata": {},
   "outputs": [],
   "source": []
  }
 ],
 "metadata": {
  "kernelspec": {
   "display_name": "Javascript (Node.js)",
   "language": "javascript",
   "name": "javascript"
  },
  "language_info": {
   "file_extension": ".js",
   "mimetype": "application/javascript",
   "name": "javascript",
   "version": "14.17.3"
  }
 },
 "nbformat": 4,
 "nbformat_minor": 5
}
